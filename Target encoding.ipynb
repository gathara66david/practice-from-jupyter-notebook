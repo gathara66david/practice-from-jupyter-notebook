{
 "cells": [
  {
   "cell_type": "code",
   "execution_count": 2,
   "id": "8c7a618c-2e1a-4ce2-8f96-60877ec6972f",
   "metadata": {},
   "outputs": [],
   "source": [
    "import matplotlib.pyplot as plt\n",
    "import numpy as np\n",
    "import pandas as pd\n",
    "import seaborn as sns\n",
    "import warnings\n",
    "from category_encoders import MEstimateEncoder\n",
    "from sklearn.model_selection import cross_val_score\n",
    "from xgboost import XGBRegressor\n"
   ]
  },
  {
   "cell_type": "code",
   "execution_count": 3,
   "id": "89d084c9-8bb6-4a81-8783-bc610ced0252",
   "metadata": {},
   "outputs": [],
   "source": [
    "# Set Matplotlib defaults\n",
    "plt.style.use(\"seaborn-v0_8-whitegrid\")\n",
    "plt.rc(\"figure\", autolayout=True)\n",
    "plt.rc(\n",
    "    \"axes\",\n",
    "    labelweight=\"bold\",\n",
    "    labelsize=\"large\",\n",
    "    titleweight=\"bold\",\n",
    "    titlesize=14,\n",
    "    titlepad=10,\n",
    ")\n",
    "warnings.filterwarnings('ignore')"
   ]
  },
  {
   "cell_type": "code",
   "execution_count": 4,
   "id": "fab99c93-6eba-4b82-9a22-5c33bffa7a2a",
   "metadata": {},
   "outputs": [],
   "source": [
    "def score_dataset(X, y, model=XGBRegressor()):\n",
    "    # Label encoding for categoricals\n",
    "    for colname in X.select_dtypes([\"category\", \"object\"]):\n",
    "        X[colname], _ = X[colname].factorize()\n",
    "    # Metric for Housing competition is RMSLE (Root Mean Squared Log Error)\n",
    "    score = cross_val_score(\n",
    "        model, X, y, cv=5, scoring=\"neg_mean_squared_log_error\",\n",
    "    )\n",
    "    score = -1 * score.mean()\n",
    "    score = np.sqrt(score)\n",
    "    return score"
   ]
  },
  {
   "cell_type": "code",
   "execution_count": 5,
   "id": "08837c7b-b3d3-47f1-a968-e57d817f68bc",
   "metadata": {},
   "outputs": [],
   "source": [
    "df = pd.read_csv(r\"C:\\Users\\David gathara marigi\\Downloads\\train (3).csv\")"
   ]
  },
  {
   "cell_type": "code",
   "execution_count": 6,
   "id": "753ddc74-0b0b-4f86-95a7-0444e89f84c6",
   "metadata": {},
   "outputs": [
    {
     "data": {
      "text/plain": [
       "MSZoning          5\n",
       "Street            2\n",
       "Alley             2\n",
       "LotShape          4\n",
       "LandContour       4\n",
       "Utilities         2\n",
       "LotConfig         5\n",
       "LandSlope         3\n",
       "Neighborhood     25\n",
       "Condition1        9\n",
       "Condition2        8\n",
       "BldgType          5\n",
       "HouseStyle        8\n",
       "RoofStyle         6\n",
       "RoofMatl          8\n",
       "Exterior1st      15\n",
       "Exterior2nd      16\n",
       "MasVnrType        3\n",
       "ExterQual         4\n",
       "ExterCond         5\n",
       "Foundation        6\n",
       "BsmtQual          4\n",
       "BsmtCond          4\n",
       "BsmtExposure      4\n",
       "BsmtFinType1      6\n",
       "BsmtFinType2      6\n",
       "Heating           6\n",
       "HeatingQC         5\n",
       "CentralAir        2\n",
       "Electrical        5\n",
       "KitchenQual       4\n",
       "Functional        7\n",
       "FireplaceQu       5\n",
       "GarageType        6\n",
       "GarageFinish      3\n",
       "GarageQual        5\n",
       "GarageCond        5\n",
       "PavedDrive        3\n",
       "PoolQC            3\n",
       "Fence             4\n",
       "MiscFeature       4\n",
       "SaleType          9\n",
       "SaleCondition     6\n",
       "dtype: int64"
      ]
     },
     "execution_count": 6,
     "metadata": {},
     "output_type": "execute_result"
    }
   ],
   "source": [
    "df.select_dtypes([\"object\"]).nunique()"
   ]
  },
  {
   "cell_type": "code",
   "execution_count": 7,
   "id": "245eb082-8377-4dcc-a443-ba76c14a8088",
   "metadata": {},
   "outputs": [
    {
     "data": {
      "text/plain": [
       "SaleType\n",
       "WD       1267\n",
       "New       122\n",
       "COD        43\n",
       "ConLD       9\n",
       "ConLI       5\n",
       "ConLw       5\n",
       "CWD         4\n",
       "Oth         3\n",
       "Con         2\n",
       "Name: count, dtype: int64"
      ]
     },
     "execution_count": 7,
     "metadata": {},
     "output_type": "execute_result"
    }
   ],
   "source": [
    "df[\"SaleType\"].value_counts()"
   ]
  },
  {
   "cell_type": "code",
   "execution_count": 8,
   "id": "16b749c7-941f-4330-be32-f4e9915b4fe6",
   "metadata": {},
   "outputs": [],
   "source": [
    "# Encoding split\n",
    "X_encode = df.sample(frac=0.20, random_state=0)\n",
    "y_encode = X_encode.pop(\"SalePrice\")\n",
    "\n",
    "# Training split\n",
    "X_pretrain = df.drop(X_encode.index)\n",
    "y_train = X_pretrain.pop(\"SalePrice\")"
   ]
  },
  {
   "cell_type": "code",
   "execution_count": 9,
   "id": "e21e3639-5c61-47d5-9ea7-f119a4bb1ae4",
   "metadata": {},
   "outputs": [],
   "source": [
    "# Choose a set of features to encode and a value for m\n",
    "encoder =  MEstimateEncoder(\n",
    "    cols=[\"Neighborhood\"],\n",
    "    m=1.0,\n",
    ")\n",
    "\n",
    "\n",
    "# Fit the encoder on the encoding split\n",
    "encoder.fit(X_encode, y_encode)\n",
    "\n",
    "# Encode the training split\n",
    "X_train = encoder.transform(X_pretrain, y_train)\n"
   ]
  },
  {
   "cell_type": "code",
   "execution_count": 10,
   "id": "20175bc7-e44d-44c0-85bc-997ada408957",
   "metadata": {},
   "outputs": [
    {
     "data": {
      "image/png": "[encoded data removed]",
      "text/plain": [
       "<Figure size 576x432 with 1 Axes>"
      ]
     },
     "metadata": {},
     "output_type": "display_data"
    }
   ],
   "source": [
    "feature = encoder.cols\n",
    "\n",
    "plt.figure(dpi=90)\n",
    "ax = sns.distplot(y_train, kde=True, hist=False)\n",
    "ax = sns.distplot(X_train[feature], color='r', ax=ax, hist=True, kde=False, norm_hist=True)\n",
    "ax.set_xlabel(\"SalePrice\");"
   ]
  },
  {
   "cell_type": "code",
   "execution_count": 11,
   "id": "ba5f1a11-b596-48b3-a282-660d1651423f",
   "metadata": {},
   "outputs": [
    {
     "name": "stdout",
     "output_type": "stream",
     "text": [
      "Baseline Score: 0.1461 RMSLE\n",
      "Score with Encoding: 0.1443 RMSLE\n"
     ]
    }
   ],
   "source": [
    "X = df.copy()\n",
    "y = X.pop(\"SalePrice\")\n",
    "score_base = score_dataset(X, y)\n",
    "score_new = score_dataset(X_train, y_train)\n",
    "\n",
    "print(f\"Baseline Score: {score_base:.4f} RMSLE\")\n",
    "print(f\"Score with Encoding: {score_new:.4f} RMSLE\")"
   ]
  },
  {
   "cell_type": "code",
   "execution_count": 13,
   "id": "e646dc30-1374-4bf7-8b84-e9e659fe199f",
   "metadata": {},
   "outputs": [
    {
     "name": "stdout",
     "output_type": "stream",
     "text": [
      "Score: 0.0240 RMSLE\n"
     ]
    }
   ],
   "source": [
    "# Try 0, 1, 5, 50\n",
    "m = 5\n",
    "\n",
    "X = df.copy()\n",
    "y = X.pop('SalePrice')\n",
    "\n",
    "# Create an uninformative feature\n",
    "X[\"Count\"] = range(len(X))\n",
    "X[\"Count\"][1] = 0  # actually need one duplicate value to circumvent error-checking in MEstimateEncoder\n",
    "\n",
    "# fit and transform on the same dataset\n",
    "encoder = MEstimateEncoder(cols=\"Count\", m=m)\n",
    "X = encoder.fit_transform(X, y)\n",
    "\n",
    "# Results\n",
    "score =  score_dataset(X, y)\n",
    "print(f\"Score: {score:.4f} RMSLE\")"
   ]
  },
  {
   "cell_type": "code",
   "execution_count": 14,
   "id": "dc289edc-519d-4c18-bca3-b541d312876a",
   "metadata": {},
   "outputs": [
    {
     "data": {
      "image/png": "[encoded data removed]",
      "text/plain": [
       "<Figure size 576x432 with 1 Axes>"
      ]
     },
     "metadata": {},
     "output_type": "display_data"
    }
   ],
   "source": [
    "plt.figure(dpi=90)\n",
    "ax = sns.distplot(y, kde=True, hist=False)\n",
    "ax = sns.distplot(X[\"Count\"], color='r', ax=ax, hist=True, kde=False, norm_hist=True)\n",
    "ax.set_xlabel(\"SalePrice\");"
   ]
  },
  {
   "cell_type": "code",
   "execution_count": null,
   "id": "a093ffa2-dc4d-4d08-9ae1-c122011def98",
   "metadata": {},
   "outputs": [],
   "source": []
  }
 ],
 "metadata": {
  "kernelspec": {
   "display_name": "Python 3 (ipykernel)",
   "language": "python",
   "name": "python3"
  },
  "language_info": {
   "codemirror_mode": {
    "name": "ipython",
    "version": 3
   },
   "file_extension": ".py",
   "mimetype": "text/x-python",
   "name": "python",
   "nbconvert_exporter": "python",
   "pygments_lexer": "ipython3",
   "version": "3.13.0"
  }
 },
 "nbformat": 4,
 "nbformat_minor": 5
}
