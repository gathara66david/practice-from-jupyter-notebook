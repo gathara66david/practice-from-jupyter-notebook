{
 "cells": [
  {
   "cell_type": "code",
   "execution_count": null,
   "metadata": {},
   "outputs": [],
   "source": [
    "import pandas as pd\n",
    "from sklearn.model_selection import train_test_split, GridSearchCV\n",
    "from sklearn.impute import SimpleImputer\n",
    "from sklearn.utils.class_weight import compute_class_weight\n",
    "from xgboost import XGBClassifier\n",
    "from sklearn.metrics import accuracy_score, classification_report, roc_auc_score\n",
    "import numpy as np"
   ]
  },
  {
   "cell_type": "code",
   "execution_count": 3,
   "metadata": {},
   "outputs": [],
   "source": [
    "#loading the dataset\n",
    "df = pd.read_csv(r\"C:\\Users\\David gathara marigi\\Downloads\\loan_data.csv\")"
   ]
  },
  {
   "cell_type": "code",
   "execution_count": 4,
   "metadata": {},
   "outputs": [],
   "source": [
    "# --- Preprocessing ---\n",
    "# Convert dates and calculate age\n",
    "df['DATE_OF_BIRTH'] = pd.to_datetime(df['DATE_OF_BIRTH'], format='%d-%m-%Y')\n",
    "df['DISBURSAL_DATE'] = pd.to_datetime(df['DISBURSAL_DATE'], format='%d-%m-%Y')\n",
    "df['AGE_AT_DISBURSAL'] = (df['DISBURSAL_DATE'] - df['DATE_OF_BIRTH']).dt.days / 365.25\n",
    "\n",
    "# Handle missing employment type\n",
    "df['EMPLOYMENT_TYPE'] = df['EMPLOYMENT_TYPE'].replace('', 'Unknown')\n",
    "\n",
    "# Create bureau history feature\n",
    "df['HAS_BUREAU_HISTORY'] = (df['PERFORM_CNS_SCORE'] > 0).astype(int)\n",
    "\n",
    "# Convert account age and credit history to months\n",
    "def parse_years_months(val):\n",
    "    if pd.isna(val):\n",
    "        return 0\n",
    "    parts = val.split()\n",
    "    years = int(parts[0].replace('yrs', ''))\n",
    "    months = int(parts[1].replace('mon', ''))\n",
    "    return years * 12 + months\n",
    "\n",
    "df['AVERAGE_ACCT_AGE_MONTHS'] = df['AVERAGE_ACCT_AGE'].apply(parse_years_months)\n",
    "df['CREDIT_HISTORY_LENGTH_MONTHS'] = df['CREDIT_HISTORY_LENGTH'].apply(parse_years_months)"
   ]
  },
  {
   "cell_type": "code",
   "execution_count": 5,
   "metadata": {},
   "outputs": [],
   "source": [
    "# Impute missing numerical values\n",
    "numerical_cols = df.select_dtypes(include=['int64', 'float64']).columns\n",
    "imputer = SimpleImputer(strategy='median')\n",
    "df[numerical_cols] = imputer.fit_transform(df[numerical_cols])"
   ]
  },
  {
   "cell_type": "code",
   "execution_count": 6,
   "metadata": {},
   "outputs": [],
   "source": [
    "# One-hot encode employment type\n",
    "employment_dummies = pd.get_dummies(df['EMPLOYMENT_TYPE'], prefix='EMPLOYMENT')\n",
    "df = pd.concat([df, employment_dummies], axis=1)"
   ]
  },
  {
   "cell_type": "code",
   "execution_count": 11,
   "metadata": {},
   "outputs": [
    {
     "data": {
      "text/plain": [
       "Index(['UNIQUEID', 'DISBURSED_AMOUNT', 'ASSET_COST', 'LTV', 'BRANCH_ID',\n",
       "       'SUPPLIER_ID', 'MANUFACTURER_ID', 'CURRENT_PINCODE_ID', 'DATE_OF_BIRTH',\n",
       "       'EMPLOYMENT_TYPE', 'DISBURSAL_DATE', 'STATE_ID', 'EMPLOYEE_CODE_ID',\n",
       "       'MOBILENO_AVL_FLAG', 'AADHAR_FLAG', 'PAN_FLAG', 'VOTERID_FLAG',\n",
       "       'DRIVING_FLAG', 'PASSPORT_FLAG', 'PERFORM_CNS_SCORE',\n",
       "       'PERFORM_CNS_SCORE_DESCRIPTION', 'PRI_NO_OF_ACCTS', 'PRI_ACTIVE_ACCTS',\n",
       "       'PRI_OVERDUE_ACCTS', 'PRI_CURRENT_BALANCE', 'PRI_SANCTIONED_AMOUNT',\n",
       "       'PRI_DISBURSED_AMOUNT', 'SEC_NO_OF_ACCTS', 'SEC_ACTIVE_ACCTS',\n",
       "       'SEC_OVERDUE_ACCTS', 'SEC_CURRENT_BALANCE', 'SEC_SANCTIONED_AMOUNT',\n",
       "       'SEC_DISBURSED_AMOUNT', 'PRIMARY_INSTAL_AMT', 'SEC_INSTAL_AMT',\n",
       "       'NEW_ACCTS_IN_LAST_SIX_MONTHS', 'DELINQUENT_ACCTS_IN_LAST_SIX_MONTHS',\n",
       "       'AVERAGE_ACCT_AGE', 'CREDIT_HISTORY_LENGTH', 'NO_OF_INQUIRIES',\n",
       "       'LOAN_DEFAULT', 'AGE_AT_DISBURSAL', 'HAS_BUREAU_HISTORY',\n",
       "       'AVERAGE_ACCT_AGE_MONTHS', 'CREDIT_HISTORY_LENGTH_MONTHS',\n",
       "       'EMPLOYMENT_Salaried', 'EMPLOYMENT_Self employed'],\n",
       "      dtype='object')"
      ]
     },
     "execution_count": 11,
     "metadata": {},
     "output_type": "execute_result"
    }
   ],
   "source": [
    "df.columns"
   ]
  },
  {
   "cell_type": "code",
   "execution_count": 13,
   "metadata": {},
   "outputs": [],
   "source": [
    "# --- Feature Selection ---\n",
    "features = [\n",
    "    'DISBURSED_AMOUNT', 'ASSET_COST', 'LTV', 'AGE_AT_DISBURSAL',\n",
    "    'MOBILENO_AVL_FLAG', 'AADHAR_FLAG', 'PAN_FLAG', 'VOTERID_FLAG',\n",
    "    'DRIVING_FLAG', 'PASSPORT_FLAG', 'PERFORM_CNS_SCORE', 'HAS_BUREAU_HISTORY',\n",
    "    'PRI_NO_OF_ACCTS', 'PRI_ACTIVE_ACCTS', 'PRI_OVERDUE_ACCTS',\n",
    "    'PRI_CURRENT_BALANCE', 'PRI_SANCTIONED_AMOUNT', 'PRI_DISBURSED_AMOUNT',\n",
    "    'SEC_NO_OF_ACCTS', 'SEC_ACTIVE_ACCTS', 'SEC_OVERDUE_ACCTS',\n",
    "    'SEC_CURRENT_BALANCE', 'SEC_SANCTIONED_AMOUNT', 'SEC_DISBURSED_AMOUNT',\n",
    "    'PRIMARY_INSTAL_AMT', 'SEC_INSTAL_AMT', 'NEW_ACCTS_IN_LAST_SIX_MONTHS',\n",
    "    'DELINQUENT_ACCTS_IN_LAST_SIX_MONTHS', 'AVERAGE_ACCT_AGE_MONTHS',\n",
    "    'CREDIT_HISTORY_LENGTH_MONTHS', 'NO_OF_INQUIRIES',\n",
    "    'EMPLOYMENT_Salaried', 'EMPLOYMENT_Self employed']\n",
    "\n",
    "X = df[features]\n",
    "y = df['LOAN_DEFAULT']"
   ]
  },
  {
   "cell_type": "code",
   "execution_count": 14,
   "metadata": {},
   "outputs": [],
   "source": [
    "# Split data into training and testing sets\n",
    "X_train, X_test, y_train, y_test = train_test_split(X, y, test_size=0.2, random_state=42)"
   ]
  },
  {
   "cell_type": "code",
   "execution_count": null,
   "metadata": {},
   "outputs": [],
   "source": [
    "# --- Handle Imbalance ---\n",
    "class_weights = compute_class_weight('balanced', classes=np.array([0, 1]), y=y_train)\n",
    "weight_ratio = class_weights[1] / class_weights[0]"
   ]
  },
  {
   "cell_type": "code",
   "execution_count": 17,
   "metadata": {},
   "outputs": [],
   "source": [
    "# --- Gradient Boosting with Hyperparameter Tuning ---\n",
    "xgb = XGBClassifier(scale_pos_weight=weight_ratio, random_state=42)"
   ]
  },
  {
   "cell_type": "code",
   "execution_count": 18,
   "metadata": {},
   "outputs": [],
   "source": [
    "param_grid = {\n",
    "    'n_estimators': [100, 200],\n",
    "    'max_depth': [3, 5, 7],\n",
    "    'learning_rate': [0.01, 0.1],\n",
    "    'subsample': [0.8, 1.0],\n",
    "    'colsample_bytree': [0.8, 1.0]\n",
    "}\n",
    "\n",
    "grid_search = GridSearchCV(xgb, param_grid, cv=3, scoring='roc_auc', n_jobs=-1)\n",
    "grid_search.fit(X_train, y_train)\n",
    "\n",
    "# Get the best model\n",
    "best_xgb = grid_search.best_estimator_"
   ]
  },
  {
   "cell_type": "code",
   "execution_count": 19,
   "metadata": {},
   "outputs": [],
   "source": [
    "# Make predictions\n",
    "y_pred = best_xgb.predict(X_test)\n",
    "y_pred_proba = best_xgb.predict_proba(X_test)[:, 1]"
   ]
  },
  {
   "cell_type": "code",
   "execution_count": 20,
   "metadata": {},
   "outputs": [
    {
     "name": "stdout",
     "output_type": "stream",
     "text": [
      "Accuracy: 0.7803311929705982\n",
      "\n",
      "Classification Report:\n",
      "               precision    recall  f1-score   support\n",
      "\n",
      "         0.0       0.92      0.74      0.82     17922\n",
      "         1.0       0.62      0.87      0.72      8709\n",
      "\n",
      "    accuracy                           0.78     26631\n",
      "   macro avg       0.77      0.80      0.77     26631\n",
      "weighted avg       0.82      0.78      0.79     26631\n",
      "\n",
      "ROC-AUC: 0.8702612764933113\n"
     ]
    }
   ],
   "source": [
    "# --- Evaluation ---\n",
    "print(\"Accuracy:\", accuracy_score(y_test, y_pred))\n",
    "print(\"\\nClassification Report:\\n\", classification_report(y_test, y_pred))\n",
    "print(\"ROC-AUC:\", roc_auc_score(y_test, y_pred_proba))"
   ]
  },
  {
   "cell_type": "code",
   "execution_count": 21,
   "metadata": {},
   "outputs": [
    {
     "name": "stdout",
     "output_type": "stream",
     "text": [
      "\n",
      "Top 10 Feature Importances:\n",
      "                          Feature  Importance\n",
      "10             PERFORM_CNS_SCORE    0.286853\n",
      "32      EMPLOYMENT_Self employed    0.226547\n",
      "31           EMPLOYMENT_Salaried    0.187041\n",
      "29  CREDIT_HISTORY_LENGTH_MONTHS    0.070181\n",
      "2                            LTV    0.067115\n",
      "14             PRI_OVERDUE_ACCTS    0.040768\n",
      "0               DISBURSED_AMOUNT    0.029912\n",
      "11            HAS_BUREAU_HISTORY    0.021653\n",
      "28       AVERAGE_ACCT_AGE_MONTHS    0.008212\n",
      "16         PRI_SANCTIONED_AMOUNT    0.007806\n"
     ]
    }
   ],
   "source": [
    "# Feature Importance\n",
    "importances = best_xgb.feature_importances_\n",
    "feature_importance_df = pd.DataFrame({'Feature': features, 'Importance': importances})\n",
    "print(\"\\nTop 10 Feature Importances:\\n\", feature_importance_df.sort_values('Importance', ascending=False).head(10))"
   ]
  }
 ],
 "metadata": {
  "kernelspec": {
   "display_name": "Python 3",
   "language": "python",
   "name": "python3"
  },
  "language_info": {
   "codemirror_mode": {
    "name": "ipython",
    "version": 3
   },
   "file_extension": ".py",
   "mimetype": "text/x-python",
   "name": "python",
   "nbconvert_exporter": "python",
   "pygments_lexer": "ipython3",
   "version": "3.11.9"
  }
 },
 "nbformat": 4,
 "nbformat_minor": 2
}
