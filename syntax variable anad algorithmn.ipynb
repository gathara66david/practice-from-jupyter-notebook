{
 "cells": [
  {
   "cell_type": "code",
   "execution_count": 1,
   "id": "3448ccf4-fbc3-45fc-b887-f71efc90ef3f",
   "metadata": {},
   "outputs": [
    {
     "name": "stdout",
     "output_type": "stream",
     "text": [
      "7\n"
     ]
    }
   ],
   "source": [
    "print(8-3+2)"
   ]
  },
  {
   "cell_type": "code",
   "execution_count": 4,
   "id": "244c1c47-3c8b-4c66-91c4-7f5962703439",
   "metadata": {},
   "outputs": [
    {
     "name": "stdin",
     "output_type": "stream",
     "text": [
      "number 7\n"
     ]
    },
    {
     "name": "stdout",
     "output_type": "stream",
     "text": [
      "154.0\n"
     ]
    }
   ],
   "source": [
    "# calculate area of a circle\n",
    "pi = 22/7\n",
    "r = int(input('number'))\n",
    "area = pi * r**2\n",
    "print(area)"
   ]
  },
  {
   "cell_type": "code",
   "execution_count": 5,
   "id": "5996df78-85a1-466e-8ac8-b1a98e48f0c7",
   "metadata": {},
   "outputs": [
    {
     "name": "stdin",
     "output_type": "stream",
     "text": [
      "number 14\n"
     ]
    },
    {
     "name": "stdout",
     "output_type": "stream",
     "text": [
      "154.0\n"
     ]
    }
   ],
   "source": [
    "pi = 22/7\n",
    "diameter = int(input('number'))\n",
    "radius = diameter/2\n",
    "area = pi * radius ** 2\n",
    "print(area)"
   ]
  },
  {
   "cell_type": "code",
   "execution_count": 13,
   "id": "c79cf136-da68-4a24-af95-8174d5b27b65",
   "metadata": {},
   "outputs": [
    {
     "name": "stdout",
     "output_type": "stream",
     "text": [
      "1\n"
     ]
    }
   ],
   "source": [
    "#how many candies will they destroy\n",
    "alice_candies = 121\n",
    "bob_candies = 77\n",
    "carol_candies = 109\n",
    "to_smash = (alice_candies + bob_candies + carol_candies)%3"
   ]
  },
  {
   "cell_type": "code",
   "execution_count": 3,
   "id": "93de2786-84a9-4d1f-b067-8cc8d46db02a",
   "metadata": {},
   "outputs": [
    {
     "name": "stdout",
     "output_type": "stream",
     "text": [
      "1,2,3\n"
     ]
    }
   ],
   "source": [
    "print(1,2,3, sep = \",\")"
   ]
  },
  {
   "cell_type": "code",
   "execution_count": 4,
   "id": "ab37d843-56f0-4505-b23d-22e92ebc860f",
   "metadata": {},
   "outputs": [
    {
     "name": "stdout",
     "output_type": "stream",
     "text": [
      "Splitting 91 candies\n"
     ]
    },
    {
     "data": {
      "text/plain": [
       "1"
      ]
     },
     "execution_count": 4,
     "metadata": {},
     "output_type": "execute_result"
    }
   ],
   "source": [
    "def to_smash(total_candies, n_friends):\n",
    "    print(\"Splitting\", total_candies, \"candy\" if total_candies == 1 else \"candies\")\n",
    "    return total_candies % 3\n",
    "to_smash(91,3)"
   ]
  },
  {
   "cell_type": "code",
   "execution_count": null,
   "id": "08b3220f-2ae2-4308-b0c5-e6610f731714",
   "metadata": {},
   "outputs": [],
   "source": []
  },
  {
   "cell_type": "code",
   "execution_count": null,
   "id": "17ab128d-21f3-4d08-9ab0-a04b28e11150",
   "metadata": {},
   "outputs": [],
   "source": []
  }
 ],
 "metadata": {
  "kernelspec": {
   "display_name": "Python 3 (ipykernel)",
   "language": "python",
   "name": "python3"
  },
  "language_info": {
   "codemirror_mode": {
    "name": "ipython",
    "version": 3
   },
   "file_extension": ".py",
   "mimetype": "text/x-python",
   "name": "python",
   "nbconvert_exporter": "python",
   "pygments_lexer": "ipython3",
   "version": "3.13.0"
  }
 },
 "nbformat": 4,
 "nbformat_minor": 5
}
