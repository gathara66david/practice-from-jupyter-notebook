{
 "cells": [
  {
   "cell_type": "code",
   "execution_count": 1,
   "id": "41454d1e-4893-402d-9c86-76f81fbe6f31",
   "metadata": {},
   "outputs": [],
   "source": [
    "import os\n",
    "import subprocess"
   ]
  },
  {
   "cell_type": "code",
   "execution_count": 2,
   "id": "b9f0822f-033d-440d-b782-07913f7f7aa1",
   "metadata": {},
   "outputs": [
    {
     "ename": "CalledProcessError",
     "evalue": "Command '['yt-dlp', '--version']' returned non-zero exit status 1.",
     "output_type": "error",
     "traceback": [
      "\u001b[1;31m---------------------------------------------------------------------------\u001b[0m",
      "\u001b[1;31mCalledProcessError\u001b[0m                        Traceback (most recent call last)",
      "Cell \u001b[1;32mIn[2], line 36\u001b[0m\n\u001b[0;32m     33\u001b[0m         \u001b[38;5;28mprint\u001b[39m(\u001b[38;5;124mf\u001b[39m\u001b[38;5;124m\"\u001b[39m\u001b[38;5;124mAn error occurred while downloading: \u001b[39m\u001b[38;5;132;01m{\u001b[39;00me\u001b[38;5;132;01m}\u001b[39;00m\u001b[38;5;124m\"\u001b[39m)\n\u001b[0;32m     35\u001b[0m \u001b[38;5;28;01mif\u001b[39;00m \u001b[38;5;18m__name__\u001b[39m \u001b[38;5;241m==\u001b[39m \u001b[38;5;124m\"\u001b[39m\u001b[38;5;124m__main__\u001b[39m\u001b[38;5;124m\"\u001b[39m:\n\u001b[1;32m---> 36\u001b[0m     \u001b[43minstall_yt_dlp\u001b[49m\u001b[43m(\u001b[49m\u001b[43m)\u001b[49m\n\u001b[0;32m     38\u001b[0m     \u001b[38;5;28mprint\u001b[39m(\u001b[38;5;124m\"\u001b[39m\u001b[38;5;124mWelcome to the Social Media Downloader!\u001b[39m\u001b[38;5;124m\"\u001b[39m)\n\u001b[0;32m     39\u001b[0m     \u001b[38;5;28;01mwhile\u001b[39;00m \u001b[38;5;28;01mTrue\u001b[39;00m:\n",
      "Cell \u001b[1;32mIn[2], line 3\u001b[0m, in \u001b[0;36minstall_yt_dlp\u001b[1;34m()\u001b[0m\n\u001b[0;32m      1\u001b[0m \u001b[38;5;28;01mdef\u001b[39;00m \u001b[38;5;21minstall_yt_dlp\u001b[39m():\n\u001b[0;32m      2\u001b[0m     \u001b[38;5;28;01mtry\u001b[39;00m:\n\u001b[1;32m----> 3\u001b[0m         \u001b[43msubprocess\u001b[49m\u001b[38;5;241;43m.\u001b[39;49m\u001b[43mrun\u001b[49m\u001b[43m(\u001b[49m\u001b[43m[\u001b[49m\u001b[38;5;124;43m\"\u001b[39;49m\u001b[38;5;124;43myt-dlp\u001b[39;49m\u001b[38;5;124;43m\"\u001b[39;49m\u001b[43m,\u001b[49m\u001b[43m \u001b[49m\u001b[38;5;124;43m\"\u001b[39;49m\u001b[38;5;124;43m--version\u001b[39;49m\u001b[38;5;124;43m\"\u001b[39;49m\u001b[43m]\u001b[49m\u001b[43m,\u001b[49m\u001b[43m \u001b[49m\u001b[43mcheck\u001b[49m\u001b[38;5;241;43m=\u001b[39;49m\u001b[38;5;28;43;01mTrue\u001b[39;49;00m\u001b[43m,\u001b[49m\u001b[43m \u001b[49m\u001b[43mstdout\u001b[49m\u001b[38;5;241;43m=\u001b[39;49m\u001b[43msubprocess\u001b[49m\u001b[38;5;241;43m.\u001b[39;49m\u001b[43mDEVNULL\u001b[49m\u001b[43m,\u001b[49m\u001b[43m \u001b[49m\u001b[43mstderr\u001b[49m\u001b[38;5;241;43m=\u001b[39;49m\u001b[43msubprocess\u001b[49m\u001b[38;5;241;43m.\u001b[39;49m\u001b[43mDEVNULL\u001b[49m\u001b[43m)\u001b[49m\n\u001b[0;32m      4\u001b[0m     \u001b[38;5;28;01mexcept\u001b[39;00m \u001b[38;5;167;01mFileNotFoundError\u001b[39;00m:\n\u001b[0;32m      5\u001b[0m         \u001b[38;5;28mprint\u001b[39m(\u001b[38;5;124m\"\u001b[39m\u001b[38;5;124myt-dlp is not installed. Installing...\u001b[39m\u001b[38;5;124m\"\u001b[39m)\n",
      "File \u001b[1;32mc:\\Users\\David gathara marigi\\AppData\\Local\\Programs\\Python\\Python312\\Lib\\subprocess.py:573\u001b[0m, in \u001b[0;36mrun\u001b[1;34m(input, capture_output, timeout, check, *popenargs, **kwargs)\u001b[0m\n\u001b[0;32m    571\u001b[0m     retcode \u001b[38;5;241m=\u001b[39m process\u001b[38;5;241m.\u001b[39mpoll()\n\u001b[0;32m    572\u001b[0m     \u001b[38;5;28;01mif\u001b[39;00m check \u001b[38;5;129;01mand\u001b[39;00m retcode:\n\u001b[1;32m--> 573\u001b[0m         \u001b[38;5;28;01mraise\u001b[39;00m CalledProcessError(retcode, process\u001b[38;5;241m.\u001b[39margs,\n\u001b[0;32m    574\u001b[0m                                  output\u001b[38;5;241m=\u001b[39mstdout, stderr\u001b[38;5;241m=\u001b[39mstderr)\n\u001b[0;32m    575\u001b[0m \u001b[38;5;28;01mreturn\u001b[39;00m CompletedProcess(process\u001b[38;5;241m.\u001b[39margs, retcode, stdout, stderr)\n",
      "\u001b[1;31mCalledProcessError\u001b[0m: Command '['yt-dlp', '--version']' returned non-zero exit status 1."
     ]
    }
   ],
   "source": [
    "def install_yt_dlp():\n",
    "    try:\n",
    "        subprocess.run([\"yt-dlp\", \"--version\"], check=True, stdout=subprocess.DEVNULL, stderr=subprocess.DEVNULL)\n",
    "    except FileNotFoundError:\n",
    "        print(\"yt-dlp is not installed. Installing...\")\n",
    "        subprocess.run([\"pip\", \"install\", \"yt-dlp\"], check=True)\n",
    "        print(\"yt-dlp has been installed successfully.\")\n",
    "\n",
    "def download_content(link, output_format):\n",
    "    try:\n",
    "        if output_format == \"video\":\n",
    "            command = [\n",
    "                \"yt-dlp\",\n",
    "                \"-f\", \"bestvideo+bestaudio\",\n",
    "                \"-o\", \"%(title)s.%(ext)s\",\n",
    "                link\n",
    "            ]\n",
    "        elif output_format == \"audio\":\n",
    "            command = [\n",
    "                \"yt-dlp\",\n",
    "                \"--extract-audio\",\n",
    "                \"--audio-format\", \"mp3\",\n",
    "                \"-o\", \"%(title)s.%(ext)s\",\n",
    "                link\n",
    "            ]\n",
    "        else:\n",
    "            print(\"Invalid format specified. Use 'video' or 'audio'.\")\n",
    "            return\n",
    "\n",
    "        subprocess.run(command, check=True)\n",
    "        print(f\"Download completed successfully for {link}.\")\n",
    "    except subprocess.CalledProcessError as e:\n",
    "        print(f\"An error occurred while downloading: {e}\")\n",
    "\n",
    "if __name__ == \"__main__\":\n",
    "    install_yt_dlp()\n",
    "\n",
    "    print(\"Welcome to the Social Media Downloader!\")\n",
    "    while True:\n",
    "        link = input(\"Enter the link of the video or music (or 'exit' to quit): \").strip()\n",
    "        if link.lower() == \"exit\":\n",
    "            print(\"Goodbye!\")\n",
    "            break\n",
    "\n",
    "        output_format = input(\"Enter the format to download ('video' or 'audio'): \").strip().lower()\n",
    "        download_content(link, output_format)\n"
   ]
  },
  {
   "cell_type": "code",
   "execution_count": null,
   "id": "dcea731b-c356-4c8a-b5ae-7ee20e050a0c",
   "metadata": {},
   "outputs": [],
   "source": []
  }
 ],
 "metadata": {
  "kernelspec": {
   "display_name": "Python 3",
   "language": "python",
   "name": "python3"
  },
  "language_info": {
   "codemirror_mode": {
    "name": "ipython",
    "version": 3
   },
   "file_extension": ".py",
   "mimetype": "text/x-python",
   "name": "python",
   "nbconvert_exporter": "python",
   "pygments_lexer": "ipython3",
   "version": "3.12.9"
  }
 },
 "nbformat": 4,
 "nbformat_minor": 5
}
