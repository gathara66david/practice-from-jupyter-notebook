{
 "cells": [
  {
   "cell_type": "code",
   "execution_count": null,
   "id": "41454d1e-4893-402d-9c86-76f81fbe6f31",
   "metadata": {},
   "outputs": [],
   "source": [
    "import os\n",
    "import subprocess"
   ]
  },
  {
   "cell_type": "code",
   "execution_count": null,
   "id": "b9f0822f-033d-440d-b782-07913f7f7aa1",
   "metadata": {},
   "outputs": [],
   "source": [
    "def install_yt_dlp():\n",
    "    try:\n",
    "        subprocess.run([\"yt-dlp\", \"--version\"], check=True, stdout=subprocess.DEVNULL, stderr=subprocess.DEVNULL)\n",
    "    except FileNotFoundError:\n",
    "        print(\"yt-dlp is not installed. Installing...\")\n",
    "        subprocess.run([\"pip\", \"install\", \"yt-dlp\"], check=True)\n",
    "        print(\"yt-dlp has been installed successfully.\")\n",
    "\n",
    "def download_content(link, output_format):\n",
    "    try:\n",
    "        if output_format == \"video\":\n",
    "            command = [\n",
    "                \"yt-dlp\",\n",
    "                \"-f\", \"bestvideo+bestaudio\",\n",
    "                \"-o\", \"%(title)s.%(ext)s\",\n",
    "                link\n",
    "            ]\n",
    "        elif output_format == \"audio\":\n",
    "            command = [\n",
    "                \"yt-dlp\",\n",
    "                \"--extract-audio\",\n",
    "                \"--audio-format\", \"mp3\",\n",
    "                \"-o\", \"%(title)s.%(ext)s\",\n",
    "                link\n",
    "            ]\n",
    "        else:\n",
    "            print(\"Invalid format specified. Use 'video' or 'audio'.\")\n",
    "            return\n",
    "\n",
    "        subprocess.run(command, check=True)\n",
    "        print(f\"Download completed successfully for {link}.\")\n",
    "    except subprocess.CalledProcessError as e:\n",
    "        print(f\"An error occurred while downloading: {e}\")\n",
    "\n",
    "if __name__ == \"__main__\":\n",
    "    install_yt_dlp()\n",
    "\n",
    "    print(\"Welcome to the Social Media Downloader!\")\n",
    "    while True:\n",
    "        link = input(\"Enter the link of the video or music (or 'exit' to quit): \").strip()\n",
    "        if link.lower() == \"exit\":\n",
    "            print(\"Goodbye!\")\n",
    "            break\n",
    "\n",
    "        output_format = input(\"Enter the format to download ('video' or 'audio'): \").strip().lower()\n",
    "        download_content(link, output_format)\n"
   ]
  },
  {
   "cell_type": "code",
   "execution_count": null,
   "id": "dcea731b-c356-4c8a-b5ae-7ee20e050a0c",
   "metadata": {},
   "outputs": [],
   "source": []
  }
 ],
 "metadata": {
  "kernelspec": {
   "display_name": "Python 3 (ipykernel)",
   "language": "python",
   "name": "python3"
  },
  "language_info": {
   "codemirror_mode": {
    "name": "ipython",
    "version": 3
   },
   "file_extension": ".py",
   "mimetype": "text/x-python",
   "name": "python",
   "nbconvert_exporter": "python",
   "pygments_lexer": "ipython3",
   "version": "3.11.9"
  }
 },
 "nbformat": 4,
 "nbformat_minor": 5
}
