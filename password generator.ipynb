{
 "cells": [
  {
   "cell_type": "code",
   "execution_count": 1,
   "id": "8def01a0-89ec-4d66-9d41-388a9be79211",
   "metadata": {},
   "outputs": [],
   "source": [
    "import secrets\n",
    "import string"
   ]
  },
  {
   "cell_type": "code",
   "execution_count": 2,
   "id": "1e2584a7-d6d9-49ee-aca1-c698de606e3f",
   "metadata": {},
   "outputs": [
    {
     "name": "stdout",
     "output_type": "stream",
     "text": [
      "Your new pasword:O?e!G4Up5BZE\n"
     ]
    }
   ],
   "source": [
    "def generate_password(length=12):\n",
    "    alphabet = (string.ascii_letters + string.digits + string.punctuation)\n",
    "    return''.join(secrets.choice(alphabet)\n",
    "                  for _ in range(length))\n",
    "password = generate_password()\n",
    "print(f\"Your new pasword:{password}\")\n",
    "                "
   ]
  },
  {
   "cell_type": "code",
   "execution_count": 9,
   "id": "f93c3ec9-afb0-4425-8c42-31b393c33a0d",
   "metadata": {},
   "outputs": [
    {
     "name": "stdout",
     "output_type": "stream",
     "text": [
      "Your new pasword:3642\n"
     ]
    }
   ],
   "source": [
    "def generate_password(length=4):\n",
    "    numbers = (string.digits)\n",
    "    return '' .join(secrets.choice(numbers) for _ in range(length))\n",
    "password  = generate_password()\n",
    "print(f\"Your new pasword:{password}\")              "
   ]
  },
  {
   "cell_type": "code",
   "execution_count": null,
   "id": "ab249b6d-b24f-4a63-b988-a755780570cb",
   "metadata": {},
   "outputs": [],
   "source": []
  }
 ],
 "metadata": {
  "kernelspec": {
   "display_name": "Python 3 (ipykernel)",
   "language": "python",
   "name": "python3"
  },
  "language_info": {
   "codemirror_mode": {
    "name": "ipython",
    "version": 3
   },
   "file_extension": ".py",
   "mimetype": "text/x-python",
   "name": "python",
   "nbconvert_exporter": "python",
   "pygments_lexer": "ipython3",
   "version": "3.11.9"
  }
 },
 "nbformat": 4,
 "nbformat_minor": 5
}
