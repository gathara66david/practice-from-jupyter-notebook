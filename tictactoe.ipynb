{
 "cells": [
  {
   "cell_type": "code",
   "execution_count": 1,
   "id": "64a19061-4b43-4f12-bb44-dce9f4dceb34",
   "metadata": {},
   "outputs": [],
   "source": [
    "import tkinter as tk\n",
    "from tkinter import messagebox"
   ]
  },
  {
   "cell_type": "code",
   "execution_count": null,
   "id": "f472c0f2-60e9-4952-a990-8e8ccdfce5ab",
   "metadata": {},
   "outputs": [],
   "source": [
    "class TicTacToe:\n",
    "    def __init__(self):\n",
    "        self.window = tk.Tk()\n",
    "        self.window.title(\"Tic Tac Toe\")\n",
    "        self.current_player = \"X\"\n",
    "        self.board = [\" \" for _ in range(9)]  # A list to hold board state\n",
    "        self.buttons = [None] * 9  # Buttons for each cell\n",
    "\n",
    "        self.create_buttons()\n",
    "        \n",
    "    def create_buttons(self):\n",
    "        for i in range(9):\n",
    "            button = tk.Button(self.window, text=\" \", font=('Arial', 20), width=5, height=2,\n",
    "                               command=lambda i=i: self.make_move(i))\n",
    "            button.grid(row=i // 3, column=i % 3)\n",
    "            self.buttons[i] = button\n",
    "\n",
    "    def make_move(self, index):\n",
    "        if self.board[index] == \" \":\n",
    "            self.board[index] = self.current_player\n",
    "            self.buttons[index].config(text=self.current_player)\n",
    "            if self.check_winner():\n",
    "                messagebox.showinfo(\"Game Over\", f\"Player {self.current_player} wins!\")\n",
    "                self.reset_game()\n",
    "            elif \" \" not in self.board:\n",
    "                messagebox.showinfo(\"Game Over\", \"It's a tie!\")\n",
    "                self.reset_game()\n",
    "            else:\n",
    "                self.current_player = \"O\" if self.current_player == \"X\" else \"X\"\n",
    "\n",
    "    def check_winner(self):\n",
    "        winning_combinations = [(0, 1, 2), (3, 4, 5), (6, 7, 8),\n",
    "                                (0, 3, 6), (1, 4, 7), (2, 5, 8),\n",
    "                                (0, 4, 8), (2, 4, 6)]\n",
    "        \n",
    "        for combo in winning_combinations:\n",
    "            if self.board[combo[0]] == self.board[combo[1]] == self.board[combo[2]] != \" \":\n",
    "                return True\n",
    "        return False\n",
    "\n",
    "    def reset_game(self):\n",
    "        self.current_player = \"X\"\n",
    "        self.board = [\" \"] * 9\n",
    "        for button in self.buttons:\n",
    "            button.config(text=\" \")\n",
    "\n",
    "    def run(self):\n",
    "        self.window.mainloop()\n",
    "\n",
    "if __name__ == \"__main__\":\n",
    "    game = TicTacToe()\n",
    "    game.run()"
   ]
  },
  {
   "cell_type": "code",
   "execution_count": null,
   "id": "3beabddc-ea05-4b5b-a717-398f06d3201b",
   "metadata": {},
   "outputs": [],
   "source": []
  }
 ],
 "metadata": {
  "kernelspec": {
   "display_name": "Python 3 (ipykernel)",
   "language": "python",
   "name": "python3"
  },
  "language_info": {
   "codemirror_mode": {
    "name": "ipython",
    "version": 3
   },
   "file_extension": ".py",
   "mimetype": "text/x-python",
   "name": "python",
   "nbconvert_exporter": "python",
   "pygments_lexer": "ipython3",
   "version": "3.12.6"
  }
 },
 "nbformat": 4,
 "nbformat_minor": 5
}
