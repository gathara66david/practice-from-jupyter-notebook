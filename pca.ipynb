{
 "cells": [
  {
   "cell_type": "raw",
   "id": "ad945e2b-300d-497a-aa7f-e074916584f4",
   "metadata": {},
   "source": [
    "Here are some use-cases:\n",
    "Dimensionality reduction: \n",
    "When your features are highly redundant (multicollinear, specifically), PCA will partition out the redundancy into one or more near-zero variance components, which you can then drop since they will contain little or no information.\n",
    "Anomaly detection: \n",
    "Unusual variation, not apparent from the original features, will often show up in the low-variance components. \n",
    "These components could be highly informative in an anomaly or outlier detection task.\n",
    "Noise reduction:\n",
    "A collection of sensor readings will often share some common background noise. \n",
    "PCA can sometimes collect the (informative) signal into a smaller number of features while leaving the noise alone, thus boosting the signal-to-noise ratio.\n",
    "Decorrelation: \n",
    "Some ML algorithms struggle with highly-correlated features. \n",
    "PCA transforms correlated features into uncorrelated components, which could be easier for your algorithm to work with."
   ]
  },
  {
   "cell_type": "code",
   "execution_count": 1,
   "id": "de893c88-5cb7-482a-8017-ead050431061",
   "metadata": {},
   "outputs": [],
   "source": [
    "import matplotlib.pyplot as plt\n",
    "import numpy as np\n",
    "import pandas as pd\n",
    "import seaborn as sns\n",
    "from sklearn.decomposition import PCA\n",
    "from sklearn.feature_selection import mutual_info_regression\n",
    "from sklearn.model_selection import cross_val_score\n",
    "from xgboost import XGBRegressor"
   ]
  },
  {
   "cell_type": "code",
   "execution_count": 2,
   "id": "363efb09-77fa-4d6f-97ca-58b0f533ad9f",
   "metadata": {},
   "outputs": [],
   "source": [
    "# Set Matplotlib defaults\n",
    "plt.style.use(\"seaborn-v0_8-whitegrid\")\n",
    "plt.rc(\"figure\", autolayout=True)\n",
    "plt.rc(\n",
    "    \"axes\",\n",
    "    labelweight=\"bold\",\n",
    "    labelsize=\"large\",\n",
    "    titleweight=\"bold\",\n",
    "    titlesize=14,\n",
    "    titlepad=10,\n",
    ")"
   ]
  },
  {
   "cell_type": "code",
   "execution_count": 3,
   "id": "53130387-e805-4e1b-9080-69ec8f6229e5",
   "metadata": {},
   "outputs": [],
   "source": [
    "def apply_pca(X, standardize=True):\n",
    "    # Standardize\n",
    "    if standardize:\n",
    "        X = (X - X.mean(axis=0)) / X.std(axis=0)\n",
    "    # Create principal components\n",
    "    pca = PCA()\n",
    "    X_pca = pca.fit_transform(X)\n",
    "    # Convert to dataframe\n",
    "    component_names = [f\"PC{i+1}\" for i in range(X_pca.shape[1])]\n",
    "    X_pca = pd.DataFrame(X_pca, columns=component_names)\n",
    "    # Create loadings\n",
    "    loadings = pd.DataFrame(\n",
    "        pca.components_.T,  # transpose the matrix of loadings\n",
    "        columns=component_names,  # so the columns are the principal components\n",
    "        index=X.columns,  # and the rows are the original features\n",
    "    )\n",
    "    return pca, X_pca, loadings\n"
   ]
  },
  {
   "cell_type": "code",
   "execution_count": 4,
   "id": "1a349403-15f5-47bb-b08d-5a16c29ed482",
   "metadata": {},
   "outputs": [],
   "source": [
    "def plot_variance(pca, width=8, dpi=100):\n",
    "    # Create figure\n",
    "    fig, axs = plt.subplots(1, 2)\n",
    "    n = pca.n_components_\n",
    "    grid = np.arange(1, n + 1)\n",
    "    # Explained variance\n",
    "    evr = pca.explained_variance_ratio_\n",
    "    axs[0].bar(grid, evr)\n",
    "    axs[0].set(\n",
    "        xlabel=\"Component\", title=\"% Explained Variance\", ylim=(0.0, 1.0)\n",
    "    )\n",
    "    # Cumulative Variance\n",
    "    cv = np.cumsum(evr)\n",
    "    axs[1].plot(np.r_[0, grid], np.r_[0, cv], \"o-\")\n",
    "    axs[1].set(\n",
    "        xlabel=\"Component\", title=\"% Cumulative Variance\", ylim=(0.0, 1.0)\n",
    "    )\n",
    "    # Set up figure\n",
    "    fig.set(figwidth=8, dpi=100)\n",
    "    return axs\n"
   ]
  },
  {
   "cell_type": "code",
   "execution_count": 5,
   "id": "735fa616-9f86-4cc4-bc07-948665d74203",
   "metadata": {},
   "outputs": [],
   "source": [
    "def make_mi_scores(X, y):\n",
    "    X = X.copy()\n",
    "    for colname in X.select_dtypes([\"object\", \"category\"]):\n",
    "        X[colname], _ = X[colname].factorize()\n",
    "    # All discrete features should now have integer dtypes\n",
    "    discrete_features = [pd.api.types.is_integer_dtype(t) for t in X.dtypes]\n",
    "    mi_scores = mutual_info_regression(X, y, discrete_features=discrete_features, random_state=0)\n",
    "    mi_scores = pd.Series(mi_scores, name=\"MI Scores\", index=X.columns)\n",
    "    mi_scores = mi_scores.sort_values(ascending=False)\n",
    "    return mi_scores"
   ]
  },
  {
   "cell_type": "code",
   "execution_count": 6,
   "id": "10dd5205-0a74-4f13-90ee-63d0056b8e93",
   "metadata": {},
   "outputs": [],
   "source": [
    "def score_dataset(X, y, model=XGBRegressor()):\n",
    "    # Label encoding for categoricals\n",
    "    for colname in X.select_dtypes([\"category\", \"object\"]):\n",
    "        X[colname], _ = X[colname].factorize()\n",
    "    # Metric for Housing competition is RMSLE (Root Mean Squared Log Error)\n",
    "    score = cross_val_score(\n",
    "        model, X, y, cv=5, scoring=\"neg_mean_squared_log_error\",\n",
    "    )\n",
    "    score = -1 * score.mean()\n",
    "    score = np.sqrt(score)\n",
    "    return score"
   ]
  },
  {
   "cell_type": "code",
   "execution_count": 7,
   "id": "57841da9-78ee-46d7-a03c-5bd6057087fa",
   "metadata": {},
   "outputs": [],
   "source": [
    "df = pd.read_csv(r\"C:\\Users\\David gathara marigi\\Downloads\\train (3).csv\")"
   ]
  },
  {
   "cell_type": "code",
   "execution_count": 8,
   "id": "7ac6cb7e-202c-4865-9077-f88af04db0d3",
   "metadata": {},
   "outputs": [
    {
     "name": "stdout",
     "output_type": "stream",
     "text": [
      "Correlation with SalePrice:\n",
      "\n",
      "GarageArea      0.623431\n",
      "YearRemodAdd    0.507101\n",
      "TotalBsmtSF     0.613581\n",
      "GrLivArea       0.708624\n",
      "dtype: float64\n"
     ]
    }
   ],
   "source": [
    "features = [\n",
    "    \"GarageArea\",\n",
    "    \"YearRemodAdd\",\n",
    "    \"TotalBsmtSF\",\n",
    "    \"GrLivArea\",\n",
    "]\n",
    "\n",
    "print(\"Correlation with SalePrice:\\n\")\n",
    "print(df[features].corrwith(df.SalePrice))"
   ]
  },
  {
   "cell_type": "code",
   "execution_count": 9,
   "id": "0b28d5f0-327e-4d66-89fb-268965e570c5",
   "metadata": {},
   "outputs": [
    {
     "name": "stdout",
     "output_type": "stream",
     "text": [
      "                   PC1       PC2       PC3       PC4\n",
      "GarageArea    0.542671 -0.055849 -0.172729  0.820094\n",
      "YearRemodAdd  0.418537  0.883023  0.052628 -0.205735\n",
      "TotalBsmtSF   0.518308 -0.324224 -0.617357 -0.495082\n",
      "GrLivArea     0.511558 -0.334709  0.765680 -0.200032\n"
     ]
    }
   ],
   "source": [
    "X = df.copy()\n",
    "y = X.pop(\"SalePrice\")\n",
    "X = X.loc[:, features]\n",
    "\n",
    "# `apply_pca`, defined above, reproduces the code from the tutorial\n",
    "pca, X_pca, loadings = apply_pca(X)\n",
    "print(loadings)"
   ]
  },
  {
   "cell_type": "code",
   "execution_count": 10,
   "id": "5e204c7a-ab3e-47aa-923e-b1afba31a755",
   "metadata": {},
   "outputs": [
    {
     "name": "stdout",
     "output_type": "stream",
     "text": [
      "Your score: 0.14180 RMSLE\n",
      "Your score: 0.14396 RMSLE\n"
     ]
    }
   ],
   "source": [
    "X = df.copy()\n",
    "y = X.pop(\"SalePrice\")\n",
    "\n",
    "# YOUR CODE HERE: Add new features to X.\n",
    "X[\"Feature1\"] = X.GrLivArea + X.TotalBsmtSF\n",
    "X[\"Feature2\"] = X.YearRemodAdd * X.TotalBsmtSF\n",
    "\n",
    "score = score_dataset(X, y)\n",
    "print(f\"Your score: {score:.5f} RMSLE\")\n",
    "\n",
    "\n",
    "# Solution 2: Uses components\n",
    "X = df.copy()\n",
    "y = X.pop(\"SalePrice\")\n",
    "\n",
    "X = X.join(X_pca)\n",
    "score = score_dataset(X, y)\n",
    "print(f\"Your score: {score:.5f} RMSLE\")"
   ]
  },
  {
   "cell_type": "code",
   "execution_count": 11,
   "id": "244970c1-e7ec-4839-b638-b9b9128f2ba6",
   "metadata": {},
   "outputs": [
    {
     "data": {
      "image/png": "[encoded data removed]",
      "text/plain": [
       "<Figure size 1011.11x1000 with 4 Axes>"
      ]
     },
     "metadata": {},
     "output_type": "display_data"
    }
   ],
   "source": [
    "sns.catplot(\n",
    "    y=\"value\",\n",
    "    col=\"variable\",\n",
    "    data=X_pca.melt(),\n",
    "    kind='boxen',\n",
    "    sharey=False,\n",
    "    col_wrap=2,\n",
    ");"
   ]
  },
  {
   "cell_type": "code",
   "execution_count": 12,
   "id": "d87b8175-e6dc-41ab-b3b5-e8c7bf288d4d",
   "metadata": {},
   "outputs": [
    {
     "data": {
      "text/html": [
       "<div>\n",
       "<style scoped>\n",
       "    .dataframe tbody tr th:only-of-type {\n",
       "        vertical-align: middle;\n",
       "    }\n",
       "\n",
       "    .dataframe tbody tr th {\n",
       "        vertical-align: top;\n",
       "    }\n",
       "\n",
       "    .dataframe thead th {\n",
       "        text-align: right;\n",
       "    }\n",
       "</style>\n",
       "<table border=\"1\" class=\"dataframe\">\n",
       "  <thead>\n",
       "    <tr style=\"text-align: right;\">\n",
       "      <th></th>\n",
       "      <th>SalePrice</th>\n",
       "      <th>Neighborhood</th>\n",
       "      <th>SaleCondition</th>\n",
       "      <th>GarageArea</th>\n",
       "      <th>YearRemodAdd</th>\n",
       "      <th>TotalBsmtSF</th>\n",
       "      <th>GrLivArea</th>\n",
       "    </tr>\n",
       "  </thead>\n",
       "  <tbody>\n",
       "    <tr>\n",
       "      <th>1298</th>\n",
       "      <td>160000</td>\n",
       "      <td>Edwards</td>\n",
       "      <td>Partial</td>\n",
       "      <td>1418</td>\n",
       "      <td>2008</td>\n",
       "      <td>6110</td>\n",
       "      <td>5642</td>\n",
       "    </tr>\n",
       "    <tr>\n",
       "      <th>523</th>\n",
       "      <td>184750</td>\n",
       "      <td>Edwards</td>\n",
       "      <td>Partial</td>\n",
       "      <td>884</td>\n",
       "      <td>2008</td>\n",
       "      <td>3138</td>\n",
       "      <td>4676</td>\n",
       "    </tr>\n",
       "    <tr>\n",
       "      <th>1182</th>\n",
       "      <td>745000</td>\n",
       "      <td>NoRidge</td>\n",
       "      <td>Abnorml</td>\n",
       "      <td>813</td>\n",
       "      <td>1996</td>\n",
       "      <td>2396</td>\n",
       "      <td>4476</td>\n",
       "    </tr>\n",
       "    <tr>\n",
       "      <th>691</th>\n",
       "      <td>755000</td>\n",
       "      <td>NoRidge</td>\n",
       "      <td>Normal</td>\n",
       "      <td>832</td>\n",
       "      <td>1995</td>\n",
       "      <td>2444</td>\n",
       "      <td>4316</td>\n",
       "    </tr>\n",
       "    <tr>\n",
       "      <th>496</th>\n",
       "      <td>430000</td>\n",
       "      <td>NoRidge</td>\n",
       "      <td>Normal</td>\n",
       "      <td>546</td>\n",
       "      <td>1993</td>\n",
       "      <td>3200</td>\n",
       "      <td>3228</td>\n",
       "    </tr>\n",
       "    <tr>\n",
       "      <th>...</th>\n",
       "      <td>...</td>\n",
       "      <td>...</td>\n",
       "      <td>...</td>\n",
       "      <td>...</td>\n",
       "      <td>...</td>\n",
       "      <td>...</td>\n",
       "      <td>...</td>\n",
       "    </tr>\n",
       "    <tr>\n",
       "      <th>1179</th>\n",
       "      <td>93000</td>\n",
       "      <td>Edwards</td>\n",
       "      <td>Normal</td>\n",
       "      <td>0</td>\n",
       "      <td>1954</td>\n",
       "      <td>0</td>\n",
       "      <td>1124</td>\n",
       "    </tr>\n",
       "    <tr>\n",
       "      <th>636</th>\n",
       "      <td>60000</td>\n",
       "      <td>BrkSide</td>\n",
       "      <td>Normal</td>\n",
       "      <td>0</td>\n",
       "      <td>1950</td>\n",
       "      <td>264</td>\n",
       "      <td>800</td>\n",
       "    </tr>\n",
       "    <tr>\n",
       "      <th>705</th>\n",
       "      <td>55000</td>\n",
       "      <td>IDOTRR</td>\n",
       "      <td>Normal</td>\n",
       "      <td>0</td>\n",
       "      <td>1950</td>\n",
       "      <td>0</td>\n",
       "      <td>1092</td>\n",
       "    </tr>\n",
       "    <tr>\n",
       "      <th>1218</th>\n",
       "      <td>80500</td>\n",
       "      <td>BrkSide</td>\n",
       "      <td>Normal</td>\n",
       "      <td>0</td>\n",
       "      <td>1950</td>\n",
       "      <td>0</td>\n",
       "      <td>912</td>\n",
       "    </tr>\n",
       "    <tr>\n",
       "      <th>533</th>\n",
       "      <td>39300</td>\n",
       "      <td>BrkSide</td>\n",
       "      <td>Normal</td>\n",
       "      <td>0</td>\n",
       "      <td>1950</td>\n",
       "      <td>0</td>\n",
       "      <td>334</td>\n",
       "    </tr>\n",
       "  </tbody>\n",
       "</table>\n",
       "<p>1460 rows × 7 columns</p>\n",
       "</div>"
      ],
      "text/plain": [
       "      SalePrice Neighborhood SaleCondition  GarageArea  YearRemodAdd  \\\n",
       "1298     160000      Edwards       Partial        1418          2008   \n",
       "523      184750      Edwards       Partial         884          2008   \n",
       "1182     745000      NoRidge       Abnorml         813          1996   \n",
       "691      755000      NoRidge        Normal         832          1995   \n",
       "496      430000      NoRidge        Normal         546          1993   \n",
       "...         ...          ...           ...         ...           ...   \n",
       "1179      93000      Edwards        Normal           0          1954   \n",
       "636       60000      BrkSide        Normal           0          1950   \n",
       "705       55000       IDOTRR        Normal           0          1950   \n",
       "1218      80500      BrkSide        Normal           0          1950   \n",
       "533       39300      BrkSide        Normal           0          1950   \n",
       "\n",
       "      TotalBsmtSF  GrLivArea  \n",
       "1298         6110       5642  \n",
       "523          3138       4676  \n",
       "1182         2396       4476  \n",
       "691          2444       4316  \n",
       "496          3200       3228  \n",
       "...           ...        ...  \n",
       "1179            0       1124  \n",
       "636           264        800  \n",
       "705             0       1092  \n",
       "1218            0        912  \n",
       "533             0        334  \n",
       "\n",
       "[1460 rows x 7 columns]"
      ]
     },
     "execution_count": 12,
     "metadata": {},
     "output_type": "execute_result"
    }
   ],
   "source": [
    "# You can change PC1 to PC2, PC3, or PC4\n",
    "component = \"PC1\"\n",
    "\n",
    "idx = X_pca[component].sort_values(ascending=False).index\n",
    "df.loc[idx, [\"SalePrice\", \"Neighborhood\", \"SaleCondition\"] + features]"
   ]
  },
  {
   "cell_type": "code",
   "execution_count": null,
   "id": "32eb3b59-957c-4a29-9087-cdd10a9786b6",
   "metadata": {},
   "outputs": [],
   "source": []
  }
 ],
 "metadata": {
  "kernelspec": {
   "display_name": "Python 3 (ipykernel)",
   "language": "python",
   "name": "python3"
  },
  "language_info": {
   "codemirror_mode": {
    "name": "ipython",
    "version": 3
   },
   "file_extension": ".py",
   "mimetype": "text/x-python",
   "name": "python",
   "nbconvert_exporter": "python",
   "pygments_lexer": "ipython3",
   "version": "3.13.0"
  }
 },
 "nbformat": 4,
 "nbformat_minor": 5
}
