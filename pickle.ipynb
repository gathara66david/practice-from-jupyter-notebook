{
 "cells": [
  {
   "cell_type": "code",
   "execution_count": 3,
   "id": "713e1f96-f58e-459b-bb0e-c7787c3151b8",
   "metadata": {},
   "outputs": [],
   "source": [
    "import pickle as pk"
   ]
  },
  {
   "cell_type": "code",
   "execution_count": 6,
   "id": "66a6344e-6ce2-4254-ba79-fd7ae24ad16e",
   "metadata": {},
   "outputs": [],
   "source": [
    "data_dictionary = {'books': 12, 'articles': 100, 'subjects': ['math', 'programming', 'data science']}\n",
    "with open('readings.pk', 'wb') as f:#'wb' . This stands for \"write binary,\"\n",
    " pk.dump(data_dictionary, f)\n"
   ]
  },
  {
   "cell_type": "code",
   "execution_count": 8,
   "id": "51fb06ef-af99-47c0-84e2-e25c6f16478d",
   "metadata": {},
   "outputs": [
    {
     "name": "stdout",
     "output_type": "stream",
     "text": [
      "{'books': 12, 'articles': 100, 'subjects': ['math', 'programming', 'data science']}\n"
     ]
    }
   ],
   "source": [
    "with open('readings.pk', 'rb') as f:\n",
    " data = pk.load(f)\n",
    "print(data)"
   ]
  },
  {
   "cell_type": "code",
   "execution_count": null,
   "id": "6e4f1178-071d-4314-9519-a44a84190b4a",
   "metadata": {},
   "outputs": [],
   "source": []
  }
 ],
 "metadata": {
  "kernelspec": {
   "display_name": "Python 3 (ipykernel)",
   "language": "python",
   "name": "python3"
  },
  "language_info": {
   "codemirror_mode": {
    "name": "ipython",
    "version": 3
   },
   "file_extension": ".py",
   "mimetype": "text/x-python",
   "name": "python",
   "nbconvert_exporter": "python",
   "pygments_lexer": "ipython3",
   "version": "3.11.9"
  }
 },
 "nbformat": 4,
 "nbformat_minor": 5
}
