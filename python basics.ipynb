{
 "cells": [
  {
   "cell_type": "code",
   "execution_count": 11,
   "id": "25a6dbe6-4cc6-44f9-9082-ced307894ca4",
   "metadata": {},
   "outputs": [
    {
     "name": "stdout",
     "output_type": "stream",
     "text": [
      "<class 'int'> <class 'float'> <class 'str'> <class 'bool'>\n"
     ]
    }
   ],
   "source": [
    "# Variables and data types\n",
    "x = 10              # Integer\n",
    "y = 3.14            # Float\n",
    "name = \"Alice\"      # String\n",
    "is_active = True    # Boolean\n",
    "\n",
    "print(type(x), type(y), type(name), type(is_active))"
   ]
  },
  {
   "cell_type": "code",
   "execution_count": 12,
   "id": "725aa831-9ca6-46fe-87b8-8d4d3b093592",
   "metadata": {},
   "outputs": [
    {
     "name": "stdout",
     "output_type": "stream",
     "text": [
      "[1, 2, 3, 4, 5, 6]\n",
      "10\n",
      "{1, 2, 3, 4}\n",
      "Alice\n"
     ]
    }
   ],
   "source": [
    "# Lists (Ordered, mutable)\n",
    "numbers = [1, 2, 3, 4, 5]\n",
    "numbers.append(6)\n",
    "print(numbers)\n",
    "\n",
    "# Tuples (Ordered, immutable)\n",
    "coordinates = (10, 20)\n",
    "print(coordinates[0])\n",
    "\n",
    "# Sets (Unordered, unique elements)\n",
    "unique_numbers = {1, 2, 3, 3, 4}\n",
    "print(unique_numbers)\n",
    "\n",
    "# Dictionaries (Key-value pairs)\n",
    "student = {'name': 'Alice', 'age': 22}\n",
    "print(student['name'])"
   ]
  },
  {
   "cell_type": "code",
   "execution_count": 13,
   "id": "b75b63a2-7ea2-4ba0-89c3-4c60f8a9e232",
   "metadata": {},
   "outputs": [
    {
     "name": "stdout",
     "output_type": "stream",
     "text": [
      "0\n",
      "1\n",
      "2\n",
      "3\n",
      "4\n",
      "0\n",
      "1\n",
      "2\n",
      "3\n",
      "4\n",
      "[0, 4, 16, 36, 64]\n"
     ]
    }
   ],
   "source": [
    "# For loop\n",
    "for i in range(5):\n",
    "    print(i)\n",
    "\n",
    "# While loop\n",
    "n = 0\n",
    "while n < 5:\n",
    "    print(n)\n",
    "    n += 1\n",
    "\n",
    "# List Comprehensions\n",
    "squares = [x**2 for x in range(10) if x % 2 == 0]\n",
    "print(squares)"
   ]
  },
  {
   "cell_type": "code",
   "execution_count": 14,
   "id": "a2605c43-345a-46af-8663-7cacac488238",
   "metadata": {},
   "outputs": [
    {
     "name": "stdout",
     "output_type": "stream",
     "text": [
      "x is greater than 5\n"
     ]
    }
   ],
   "source": [
    "# If-Else Statements\n",
    "x = 10\n",
    "if x > 5:\n",
    "    print(\"x is greater than 5\")\n",
    "else:\n",
    "    print(\"x is less than or equal to 5\")"
   ]
  },
  {
   "cell_type": "code",
   "execution_count": 15,
   "id": "bbcdb1df-f040-4280-9c4f-82470ab2840f",
   "metadata": {},
   "outputs": [
    {
     "name": "stdout",
     "output_type": "stream",
     "text": [
      "8\n"
     ]
    }
   ],
   "source": [
    "# Functions encapsulate reusable code\n",
    "def add_numbers(a, b):\n",
    "    return a + b\n",
    "\n",
    "print(add_numbers(3, 5))"
   ]
  },
  {
   "cell_type": "code",
   "execution_count": 16,
   "id": "c50d55db-73a7-4f59-91c7-08bd8d0ba44f",
   "metadata": {},
   "outputs": [
    {
     "name": "stdout",
     "output_type": "stream",
     "text": [
      "Hi, my name is Alice!\n"
     ]
    }
   ],
   "source": [
    "# Classes define custom data structures and their behaviors\n",
    "class Student:\n",
    "    def __init__(self, name, age):\n",
    "        self.name = name\n",
    "        self.age = age\n",
    "\n",
    "    def greet(self):\n",
    "        return f\"Hi, my name is {self.name}!\"\n",
    "\n",
    "student = Student(\"Alice\", 22)\n",
    "print(student.greet())"
   ]
  },
  {
   "cell_type": "code",
   "execution_count": 17,
   "id": "d5f05172-6837-4fa4-96ae-c57db6a6a22f",
   "metadata": {},
   "outputs": [
    {
     "name": "stdout",
     "output_type": "stream",
     "text": [
      "Cannot divide by zero!\n"
     ]
    }
   ],
   "source": [
    "# Error handling with try-except blocks\n",
    "try:\n",
    "    result = 10 / 0\n",
    "except ZeroDivisionError:\n",
    "    print(\"Cannot divide by zero!\")"
   ]
  },
  {
   "cell_type": "code",
   "execution_count": 18,
   "id": "3af7f42f-282d-4b09-a69e-1a357a6d314a",
   "metadata": {},
   "outputs": [
    {
     "name": "stdout",
     "output_type": "stream",
     "text": [
      "Hello, World!\n"
     ]
    }
   ],
   "source": [
    "# Writing to a file\n",
    "with open(\"example.txt\", \"w\") as file:\n",
    "    file.write(\"Hello, World!\")\n",
    "\n",
    "# Reading from a file\n",
    "with open(\"example.txt\", \"r\") as file:\n",
    "    print(file.read())"
   ]
  },
  {
   "cell_type": "code",
   "execution_count": 19,
   "id": "d30560a4-3812-4823-b010-d6866b10ea54",
   "metadata": {},
   "outputs": [
    {
     "name": "stdout",
     "output_type": "stream",
     "text": [
      "4.0\n"
     ]
    }
   ],
   "source": [
    "# Using Python packages\n",
    "import math\n",
    "print(math.sqrt(16))"
   ]
  },
  {
   "cell_type": "code",
   "execution_count": 20,
   "id": "87b21e0c-31f2-4f24-abcb-c46999a82861",
   "metadata": {},
   "outputs": [
    {
     "name": "stdout",
     "output_type": "stream",
     "text": [
      "Inputs: a=10, b=2\n"
     ]
    },
    {
     "data": {
      "text/plain": [
       "5.0"
      ]
     },
     "execution_count": 20,
     "metadata": {},
     "output_type": "execute_result"
    }
   ],
   "source": [
    "# Debugging with print statements\n",
    "def divide(a, b):\n",
    "    print(f\"Inputs: a={a}, b={b}\")\n",
    "    return a / b\n",
    "\n",
    "divide(10, 2)"
   ]
  },
  {
   "cell_type": "code",
   "execution_count": null,
   "id": "6c57bd33-0245-41e0-9d7c-d418dbac5d92",
   "metadata": {},
   "outputs": [],
   "source": []
  },
  {
   "cell_type": "code",
   "execution_count": null,
   "id": "cf4c9ebb-e737-4fdd-ac69-836f25b791ce",
   "metadata": {},
   "outputs": [],
   "source": []
  }
 ],
 "metadata": {
  "kernelspec": {
   "display_name": "Python 3",
   "language": "python",
   "name": "python3"
  },
  "language_info": {
   "codemirror_mode": {
    "name": "ipython",
    "version": 3
   },
   "file_extension": ".py",
   "mimetype": "text/x-python",
   "name": "python",
   "nbconvert_exporter": "python",
   "pygments_lexer": "ipython3",
   "version": "3.12.9"
  }
 },
 "nbformat": 4,
 "nbformat_minor": 5
}
